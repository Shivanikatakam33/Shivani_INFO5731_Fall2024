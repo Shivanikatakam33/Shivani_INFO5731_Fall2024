{
  "cells": [
    {
      "cell_type": "markdown",
      "metadata": {
        "id": "view-in-github",
        "colab_type": "text"
      },
      "source": [
        "<a href=\"https://colab.research.google.com/github/Shivanikatakam33/Shivani_INFO5731_Fall2024/blob/main/info5731_assignment_1_spring_2024.ipynb\" target=\"_parent\"><img src=\"https://colab.research.google.com/assets/colab-badge.svg\" alt=\"Open In Colab\"/></a>"
      ]
    },
    {
      "cell_type": "markdown",
      "metadata": {
        "id": "Ryk8D1Q4Wsrp"
      },
      "source": [
        "# **INFO5731 Assignment One**"
      ]
    },
    {
      "cell_type": "markdown",
      "source": [
        "This assignment includes range of programming tasks and data analysis exercises, aiming to enhance your Python skills and proficiency in string manipulation, numerical computations, and data science. Follow the instructions carefully and design well-structured Python programs to address each question.\n",
        "\n",
        "Late Submission will have a penalty of 10% reduction for each day after the deadline."
      ],
      "metadata": {
        "id": "qcP6re2g5A5r"
      }
    },
    {
      "cell_type": "markdown",
      "metadata": {
        "id": "JkzR8cFAyGik"
      },
      "source": [
        "# Question 1 (10 points).\n",
        "\n",
        "The formula that describes the volume V of a hemisphere with radius r is the following:\n",
        "\n",
        "$ V=\\frac{2}{3}\\ast\\ \\pi\\ast\\ r^3 $\n",
        "\n",
        "Write a program to calculate the value of V when r is in the range of even numbers from 1-20. Output the result in the following format:\n",
        "\n",
        "\tr\tV\n",
        "\t2\t…\n",
        "\t4\t…\n",
        "\t6\t…\n",
        "\t.\n",
        "\t.\n",
        "\t.\n",
        "\t20\t…\n"
      ]
    },
    {
      "cell_type": "code",
      "execution_count": null,
      "metadata": {
        "id": "jDyTKYs-yGit",
        "colab": {
          "base_uri": "https://localhost:8080/"
        },
        "outputId": "95ce1467-2e34-4816-a9ef-21896d4901d1"
      },
      "outputs": [
        {
          "output_type": "stream",
          "name": "stdout",
          "text": [
            "r    V\n",
            "2    16.76\n",
            "4    134.04\n",
            "6    452.39\n",
            "8    1072.33\n",
            "10    2094.40\n",
            "12    3619.11\n",
            "14    5747.02\n",
            "16    8578.64\n",
            "18    12214.51\n",
            "20    16755.16\n"
          ]
        }
      ],
      "source": [
        "import math\n",
        "def hemisphere_volume(r):\n",
        "    return (2/3) * math.pi * (r**3)\n",
        "print(\"r    V\")\n",
        "for r in range(2, 21, 2):\n",
        "    V = hemisphere_volume(r)\n",
        "    print(f\"{r}    {V:.2f}\")\n",
        "\n"
      ]
    },
    {
      "cell_type": "markdown",
      "metadata": {
        "id": "90_NR8c5XGWc"
      },
      "source": [
        "# Question 2 (20 points)\n",
        "\n",
        "(a) Write a Python program to generate a sequence of 12 random numbers falling within the range of 50 to 150.\n",
        "\n",
        "(b) Arrange the generated numbers in ascending order. Display the sorted list.\n",
        "\n",
        "(c) Extend the program to arrange the numbers in descending order as well. Present the sorted list accordingly.\n",
        "\n",
        "(d) Compute and output the average of the entire group of generated numbers.\n",
        "\n",
        "(e) Enhance the program to calculate and display the average of the first 6 numbers from both the ascending and descending sorted lists."
      ]
    },
    {
      "cell_type": "code",
      "execution_count": null,
      "metadata": {
        "id": "5QX6bJjGWXY9",
        "colab": {
          "base_uri": "https://localhost:8080/"
        },
        "outputId": "b0e116e6-230c-492e-f60b-082d0c009cf4"
      },
      "outputs": [
        {
          "output_type": "stream",
          "name": "stdout",
          "text": [
            "Original list:\n",
            "[58, 116, 134, 92, 111, 121, 55, 123, 143, 132, 90, 142]\n",
            "\n",
            "Ascending order:\n",
            "[55, 58, 90, 92, 111, 116, 121, 123, 132, 134, 142, 143]\n",
            "\n",
            "Descending order:\n",
            "[143, 142, 134, 132, 123, 121, 116, 111, 92, 90, 58, 55]\n",
            "\n",
            "Average of all the numbers: 109.75\n",
            "\n",
            "Average of first 6 numbers in ascending order: 87.00\n",
            "Average of first 6 numbers in descending order: 132.50\n"
          ]
        }
      ],
      "source": [
        "import random\n",
        "random_numbers = [random.randint(50, 150) for _ in range(12)]\n",
        "print(\"Original list:\")\n",
        "print(random_numbers)\n",
        "ascending_numbers = sorted(random_numbers)\n",
        "print(\"\\nAscending order:\")\n",
        "print(ascending_numbers)\n",
        "descending_numbers = sorted(random_numbers, reverse=True)\n",
        "print(\"\\nDescending order:\")\n",
        "print(descending_numbers)\n",
        "average_all = sum(random_numbers) / len(random_numbers)\n",
        "print(f\"\\nAverage of all the numbers: {average_all:.2f}\")\n",
        "average_ascending_first_6 = sum(ascending_numbers[:6]) / 6\n",
        "average_descending_first_6 = sum(descending_numbers[:6]) / 6\n",
        "print(f\"\\nAverage of first 6 numbers in ascending order: {average_ascending_first_6:.2f}\")\n",
        "print(f\"Average of first 6 numbers in descending order: {average_descending_first_6:.2f}\")\n",
        "\n"
      ]
    },
    {
      "cell_type": "markdown",
      "metadata": {
        "id": "1F_PZdH9Sh49"
      },
      "source": [
        "# Question 3 (20 points).\n",
        "\n",
        "Create a Python program that encompasses various string manipulation task:\n",
        "\n",
        "(a) Prompt the user to input two sentences.\n",
        "\n",
        "(b) Transform each sentence into a list, where each element corresponds to a word in the sentence. For example, if the sentences are \"Hello, how are you doing today?\" and \"This is an example sentence for the program!\"\n",
        "\n",
        "The program should output:\n",
        "['Hello', ',', 'how', 'are', 'you', 'doing', 'today', '?', 'This', 'is', 'an', 'example', 'sentence', 'for', 'the', 'program', '!']\n",
        "\n",
        "(c) Compare the two sentences. Print out a list of words that occur in both sentences.\n",
        "\n",
        "(d) Remove any punctuation from the sentence and print the sanitized sentences. It should remove at least the following characters, but it can remove more: period(“.”), comma (“,”), semicolon (“;”), and colon (“:”).\n",
        "\n",
        "(e) Count the number of vowels in each of the sentences. Print out each vowel and the occurrences  in the each of the two sentences separately, such as:\n",
        "\n",
        "Sentence1: a:2, e:2, i:0, etc.\n",
        "Sentence2: a:1, e:2, i:2, etc.\n",
        "\n",
        "Design a well-structured Python program to execute these tasks efficiently."
      ]
    },
    {
      "cell_type": "code",
      "execution_count": null,
      "metadata": {
        "id": "Y0oOSlsOS0cq",
        "colab": {
          "base_uri": "https://localhost:8080/"
        },
        "outputId": "93fa0136-0971-488b-d674-afd3a91ad559"
      },
      "outputs": [
        {
          "output_type": "stream",
          "name": "stdout",
          "text": [
            "Enter the first sentence: My name is Shivani, I am 24 years old.\n",
            "Enter the second sentence: I am from India\n",
            "List of words from both sentences: ['My', 'name', 'is', 'Shivani', ',', 'I', 'am', '24', 'years', 'old', '.', 'I', 'am', 'from', 'India']\n",
            "Common words in both sentences: ['I', 'am']\n",
            "Sanitized first sentence: My name is Shivani I am 24 years old\n",
            "Sanitized second sentence: I am from India\n",
            "Sentence1 vowel counts: a:4, e:2, i:4, o:1, u:0, \n",
            "Sentence2 vowel counts: a:2, e:0, i:3, o:1, u:0, \n"
          ]
        }
      ],
      "source": [
        "import re\n",
        "from collections import Counter\n",
        "sentence1 = input(\"Enter the first sentence: \")\n",
        "sentence2 = input(\"Enter the second sentence: \")\n",
        "def sentence_to_word_list(sentence):\n",
        "    return re.findall(r\"\\w+|[^\\w\\s]\", sentence)\n",
        "words_sentence1 = sentence_to_word_list(sentence1)\n",
        "words_sentence2 = sentence_to_word_list(sentence2)\n",
        "print(\"List of words from both sentences:\", words_sentence1 + words_sentence2)\n",
        "common_words = set(words_sentence1).intersection(set(words_sentence2))\n",
        "print(\"Common words in both sentences:\", list(common_words))\n",
        "def remove_punctuation(sentence):\n",
        "    return re.sub(r'[.,;:?!]', '', sentence)\n",
        "sanitized_sentence1 = remove_punctuation(sentence1)\n",
        "sanitized_sentence2 = remove_punctuation(sentence2)\n",
        "print(\"Sanitized first sentence:\", sanitized_sentence1)\n",
        "print(\"Sanitized second sentence:\", sanitized_sentence2)\n",
        "vowels = 'aeiouAEIOU'\n",
        "def count_vowels(sentence):\n",
        "    counts = Counter(letter.lower() for letter in sentence if letter in vowels)\n",
        "    return counts\n",
        "vowel_counts_sentence1 = count_vowels(sanitized_sentence1)\n",
        "vowel_counts_sentence2 = count_vowels(sanitized_sentence2)\n",
        "def print_vowel_counts(vowel_counts, sentence_num):\n",
        "    print(f\"Sentence{sentence_num} vowel counts: \", end=\"\")\n",
        "    for vowel in 'aeiou':\n",
        "        print(f\"{vowel}:{vowel_counts.get(vowel, 0)}\", end=\", \")\n",
        "    print()\n",
        "print_vowel_counts(vowel_counts_sentence1, 1)\n",
        "print_vowel_counts(vowel_counts_sentence2, 2)\n",
        "\n",
        "\n",
        "\n"
      ]
    },
    {
      "cell_type": "markdown",
      "source": [
        "# Question 4 (20 Points)"
      ],
      "metadata": {
        "id": "OP4-5qxAtInv"
      }
    },
    {
      "cell_type": "markdown",
      "source": [
        "Design and implement a simple command-line calculator program. The program should handle both integers and floating-point numbers.\n",
        "\n",
        "(a) Write program that takes a mathematical expression as input and evaluates it. The program should support addition, subtraction, multiplication, and division.\n",
        "\n",
        "(b) Extend the calculator to handle parentheses in mathematical expressions. Implement the necessary logic to evaluate expressions with nested parentheses.\n",
        "\n",
        "(c) Enhance your calculator to include additional mathematical operations such as exponentiation, square root, and modulus.\n",
        "\n",
        "(d) Implement error handling in the calculator program. Handle cases such as division by zero and invalid input expressions. Provide meaningful error messages.\n",
        "\n",
        "(e) Implement a command to exit the calculator."
      ],
      "metadata": {
        "id": "uzN4_hDptK9U"
      }
    },
    {
      "cell_type": "code",
      "source": [
        "import math\n",
        "\n",
        "def evaluate_expression(expression):\n",
        "    try:\n",
        "        expression = expression.replace('^', '**')\n",
        "        expression = expression.replace('sqrt', 'math.sqrt')\n",
        "        result = eval(expression, {\"__builtins__\": None}, {\"math\": math})\n",
        "        return result\n",
        "    except ZeroDivisionError:\n",
        "        return \"Error: Division by zero is not allowed.\"\n",
        "    except SyntaxError:\n",
        "        return \"Error: Invalid expression syntax.\"\n",
        "    except Exception as e:\n",
        "        return f\"Error: {str(e)}\"\n",
        "\n",
        "def calculator():\n",
        "    print(\"Simple Command-Line Calculator\")\n",
        "    print(\"Supports +, -, *, /, %, ^ (exponentiation), sqrt (square root), and parentheses.\")\n",
        "    print(\"Type 'exit' to close the calculator.\")\n",
        "\n",
        "    while True:\n",
        "       expression = input(\"\\nEnter a mathematical expression: \").strip().lower()\n",
        "       if expression == 'exit':\n",
        "            print(\"Exiting calculator. Thanks for using!\")\n",
        "            break\n",
        "       result = evaluate_expression(expression)\n",
        "       print(f\"Result: {result}\")\n",
        "calculator()\n"
      ],
      "metadata": {
        "id": "8nQnVxjJuYtu",
        "colab": {
          "base_uri": "https://localhost:8080/"
        },
        "outputId": "5b8e1147-4959-4e9c-a62f-f645cc59ed3a"
      },
      "execution_count": null,
      "outputs": [
        {
          "output_type": "stream",
          "name": "stdout",
          "text": [
            "Simple Command-Line Calculator\n",
            "Supports +, -, *, /, %, ^ (exponentiation), sqrt (square root), and parentheses.\n",
            "Type 'exit' to close the calculator.\n",
            "\n",
            "Enter a mathematical expression: 13+7*3\n",
            "Result: 34\n",
            "\n",
            "Enter a mathematical expression: (13+7)*3\n",
            "Result: 60\n",
            "\n",
            "Enter a mathematical expression: 4^2\n",
            "Result: 16\n",
            "\n",
            "Enter a mathematical expression: sqrt(64)\n",
            "Result: 8.0\n",
            "\n",
            "Enter a mathematical expression: 34%12\n",
            "Result: 10\n",
            "\n",
            "Enter a mathematical expression: 9/0\n",
            "Result: Error: Division by zero is not allowed.\n",
            "\n",
            "Enter a mathematical expression: exit\n",
            "Exiting calculator. Thanks for using!\n"
          ]
        }
      ]
    },
    {
      "cell_type": "markdown",
      "metadata": {
        "id": "z3tBE7E-Xn5X"
      },
      "source": [
        "# Question 5 (30 points).\n",
        "\n",
        "In the field of Data Science, data is often formatted as a comma-delimited (CSV) file, where each line in a file corresponds to a field's value. Refer to Chapter 9 (p. 106) for more information on comma-delimited files.\n",
        "\n",
        "To answer this question, you will need to download the file [Assignment1_denton_housing.csv](https://raw.githubusercontent.com/unt-iialab/info5731-spring2022/main/assignments/Assignment1_denton_housing.csv) included with this assignment. The file contains statistics about housing in the city of Denton from 2008 to 2014. Write a program to implement the following questions.\n",
        "\n",
        "(a) (5 pts) Calculate the difference in the number of Occupied Housing Units from year to year and print it. The difference must be calculated for the consecutive years such as 2008-2009, 2009-2010 etc. Finally, print the values in the ascending order.\n",
        "\n",
        "(b) (5 pts) For all the years, calculate the percentage of housing units which are vacant an occupied. Print the results in the following format:\n",
        "\n",
        "Year Vacant Housing Units Occupied Housing Units\n",
        "\n",
        "    2008  30%   70%                          \n",
        "\t2009 ----- -----\n",
        "\t2010 ----- -----\n",
        "    2011 ----- -----\n",
        "\t2012 ----- -----\n",
        "    2013 ----- -----\n",
        "\t2014 ----- -----\n",
        "  \n",
        "  \n",
        "\n",
        "(c) (10 pts) Calculate and print the valued and years in which the highest number of housing units were vacant and occupied. Print the results in the following format:  \n",
        "\n",
        "                              Year\tValue\n",
        "\tVacant Housing Units\t  -----   -----\n",
        "\tOccupied Housing Units\t-----   -----\n",
        "\n",
        "(d) (10 pts) Calculate the harmonic mean of the total housing units and print it out. You can find the information about harmonic mean here: https://ncalculators.com/statistics/harmonic-mean-calculator.htm"
      ]
    },
    {
      "cell_type": "code",
      "execution_count": null,
      "metadata": {
        "id": "lqGYuHBhcsRH",
        "colab": {
          "base_uri": "https://localhost:8080/"
        },
        "outputId": "fe85a706-f498-4e6c-94fd-7d7d0980ad02"
      },
      "outputs": [
        {
          "output_type": "stream",
          "name": "stdout",
          "text": [
            "Year-to-year differences in Occupied Housing Units (in ascending order):\n",
            "    year  yearly_difference\n",
            "11  2011            -1249.0\n",
            "8   2012               13.0\n",
            "5   2013             1554.0\n",
            "2   2014             2622.0\n",
            "17  2009             3090.0\n",
            "14  2010             3715.0\n",
            "\n",
            "Yearly percentage of Vacant and Occupied Housing Units:\n",
            "   year  vacant_percentage  occupied_percentage\n",
            "0  2014               5.73                94.27\n",
            "1  2013               8.80                91.20\n",
            "2  2012               6.68                93.32\n",
            "3  2011               6.26                93.74\n",
            "4  2010               6.35                93.65\n",
            "5  2009              10.15                89.85\n",
            "6  2008              10.93                89.07\n"
          ]
        }
      ],
      "source": [
        "import pandas as pd\n",
        "data = {\n",
        "    'year': [2014, 2014, 2014, 2013, 2013, 2013, 2012, 2012, 2012,\n",
        "             2011, 2011, 2011, 2010, 2010, 2010, 2009, 2009, 2009,\n",
        "             2008, 2008, 2008],\n",
        "    'title_field': ['Total Housing Units', 'Vacant Housing Units', 'Occupied Housing Units',\n",
        "                    'Total Housing Units', 'Vacant Housing Units', 'Occupied Housing Units',\n",
        "                    'Total Housing Units', 'Vacant Housing Units', 'Occupied Housing Units',\n",
        "                    'Total Housing Units', 'Vacant Housing Units', 'Occupied Housing Units',\n",
        "                    'Total Housing Units', 'Vacant Housing Units', 'Occupied Housing Units',\n",
        "                    'Total Housing Units', 'Vacant Housing Units', 'Occupied Housing Units',\n",
        "                    'Total Housing Units', 'Vacant Housing Units', 'Occupied Housing Units'],\n",
        "    'value': [49109, 2814, 46295, 47888, 4215, 43673, 45132, 3013, 42119,\n",
        "              44917, 2811, 42106, 46295, 2940, 43355, 44120, 4480, 39640,\n",
        "              41033, 4483, 36550]\n",
        "}\n",
        "housing_data = pd.DataFrame(data)\n",
        "occupied_housing_data = housing_data[housing_data['title_field'] == 'Occupied Housing Units']\n",
        "occupied_housing_data = occupied_housing_data.sort_values(by='year')\n",
        "occupied_housing_data['yearly_difference'] = occupied_housing_data['value'].diff()\n",
        "occupied_housing_difference = occupied_housing_data[['year', 'yearly_difference']].dropna().sort_values(by='yearly_difference')\n",
        "print(\"Year-to-year differences in Occupied Housing Units (in ascending order):\")\n",
        "print(occupied_housing_difference)\n",
        "vacant_housing_data = housing_data[housing_data['title_field'] == 'Vacant Housing Units']\n",
        "total_housing_data = housing_data[housing_data['title_field'] == 'Total Housing Units']\n",
        "merged_data = pd.merge(vacant_housing_data[['year', 'value']], occupied_housing_data[['year', 'value']], on='year', suffixes=('_vacant', '_occupied'))\n",
        "merged_data = pd.merge(merged_data, total_housing_data[['year', 'value']], on='year')\n",
        "merged_data.rename(columns={'value': 'total_housing_units'}, inplace=True)\n",
        "merged_data['vacant_percentage'] = (merged_data['value_vacant'] / merged_data['total_housing_units']) * 100\n",
        "merged_data['occupied_percentage'] = (merged_data['value_occupied'] / merged_data['total_housing_units']) * 100\n",
        "housing_percentages = merged_data[['year', 'vacant_percentage', 'occupied_percentage']].round(2)\n",
        "print(\"\\nYearly percentage of Vacant and Occupied Housing Units:\")\n",
        "print(housing_percentages)\n"
      ]
    },
    {
      "cell_type": "markdown",
      "source": [
        "# Mandatory Question\n",
        "\n",
        "Provide your thoughts on the assignment. What did you find challenging, and what aspects did you enjoy? Your opinion on the provided time to complete the assignment. Share any suggestions for improvement. Your feedback will be valuable for enhancing the learning experience."
      ],
      "metadata": {
        "id": "q8BFCvWp32cf"
      }
    },
    {
      "cell_type": "code",
      "source": [
        "This assignment was some what tough. i felt difficulty in the last code."
      ],
      "metadata": {
        "id": "_e557s2w4BpK"
      },
      "execution_count": null,
      "outputs": []
    }
  ],
  "metadata": {
    "colab": {
      "provenance": [],
      "include_colab_link": true
    },
    "kernelspec": {
      "display_name": "Python 3 (ipykernel)",
      "language": "python",
      "name": "python3"
    },
    "language_info": {
      "codemirror_mode": {
        "name": "ipython",
        "version": 3
      },
      "file_extension": ".py",
      "mimetype": "text/x-python",
      "name": "python",
      "nbconvert_exporter": "python",
      "pygments_lexer": "ipython3",
      "version": "3.9.12"
    }
  },
  "nbformat": 4,
  "nbformat_minor": 0
}