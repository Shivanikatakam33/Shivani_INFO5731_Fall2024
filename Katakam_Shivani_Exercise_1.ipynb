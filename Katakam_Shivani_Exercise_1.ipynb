{
  "cells": [
    {
      "cell_type": "markdown",
      "metadata": {
        "id": "view-in-github",
        "colab_type": "text"
      },
      "source": [
        "<a href=\"https://colab.research.google.com/github/Shivanikatakam33/Shivani_INFO5731_Fall2024/blob/main/Katakam_Shivani_Exercise_1.ipynb\" target=\"_parent\"><img src=\"https://colab.research.google.com/assets/colab-badge.svg\" alt=\"Open In Colab\"/></a>"
      ]
    },
    {
      "cell_type": "markdown",
      "metadata": {
        "id": "DymRJbxDBCnf"
      },
      "source": [
        "# **INFO5731 Exercise 1**\n",
        "\n",
        "This exercise covers a variety of fundamental concepts in Python and is designed to help students improve their coding skills and problem-solving abilities.\n",
        "\n",
        "**Expectations**:\n",
        "*   Students are expected to complete the exercise during lecture period to meet the active participation criteria of the course.\n",
        "*   Use the provided .*ipynb* document to write your code & respond to the questions. Avoid generating a new file.\n",
        "*   Write complete answers and run all the cells before submission.\n",
        "*   Make sure the submission is \"clean\"; *i.e.*, no unnecessary code cells.\n",
        "*   Once finished, allow shared rights from top right corner (*see Canvas for details*).\n",
        "\n",
        "**Total points**: 40\n",
        "\n",
        "**Deadline**: This in-class exercise is due at the end of the day tomorrow, at 11:59 PM.\n",
        "\n",
        "**Late submissions cannot be considered, and no requests will be answered. Manage your time accordingly.**\n"
      ]
    },
    {
      "cell_type": "markdown",
      "source": [
        "## Question 1\n",
        "Write a Python program that  prompts the user to input the length and width of a rectangle, and then calculates and displays the area of the rectangle."
      ],
      "metadata": {
        "id": "FBKvD6O_TY6e"
      }
    },
    {
      "cell_type": "code",
      "source": [
        "length = float(input(\"Enter the length of the rectangle: \"))\n",
        "width = float(input(\"Enter the width of the rectangle: \"))\n",
        "area = length * width\n",
        "print(f'The area of the rectangle is {area}')"
      ],
      "metadata": {
        "id": "cikVKDXdTbzE",
        "colab": {
          "base_uri": "https://localhost:8080/"
        },
        "outputId": "cb72d963-6523-4bc9-bb9c-03afe50130f5"
      },
      "execution_count": 1,
      "outputs": [
        {
          "output_type": "stream",
          "name": "stdout",
          "text": [
            "Enter the length of the rectangle: 6\n",
            "Enter the width of the rectangle: 3\n",
            "The area of the rectangle is 18.0\n"
          ]
        }
      ]
    },
    {
      "cell_type": "markdown",
      "source": [
        "## Question 2\n",
        "Create a Python program that interactively takes two numerical inputs from the user and swaps their values without utilizing an extra variable."
      ],
      "metadata": {
        "id": "E9RqrlwdTfvl"
      }
    },
    {
      "cell_type": "code",
      "source": [
        "a = float(input(\"Enter the first number (a): \"))\n",
        "b = float(input(\"Enter the second number (b): \"))\n",
        "a = a + b\n",
        "b = a - b\n",
        "a = a - b\n",
        "print(f\"After swapping, the value of a is: {a}\")\n",
        "print(f\"After swapping, the value of b is: {b}\")\n"
      ],
      "metadata": {
        "id": "4XvRknixTh1g",
        "colab": {
          "base_uri": "https://localhost:8080/"
        },
        "outputId": "b97f347b-ef67-49c7-cbd3-50dd65c2d457"
      },
      "execution_count": 4,
      "outputs": [
        {
          "output_type": "stream",
          "name": "stdout",
          "text": [
            "Enter the first number (a): 3\n",
            "Enter the second number (b): 8\n",
            "After swapping, the value of a is: 8.0\n",
            "After swapping, the value of b is: 3.0\n"
          ]
        }
      ]
    },
    {
      "cell_type": "markdown",
      "metadata": {
        "id": "03jb4GZsBkBS"
      },
      "source": [
        "## Question 3\n",
        "Write a Python script to determine and print the length of a user-input string."
      ]
    },
    {
      "cell_type": "code",
      "execution_count": 5,
      "metadata": {
        "id": "YaGLbSHHB8Ej",
        "colab": {
          "base_uri": "https://localhost:8080/"
        },
        "outputId": "96788b13-9671-40b3-d8b4-44a659ca6bd0"
      },
      "outputs": [
        {
          "output_type": "stream",
          "name": "stdout",
          "text": [
            "Enter a string: my name is shivani\n",
            "The length of the string is: 18\n"
          ]
        }
      ],
      "source": [
        "user_input = input(\"Enter a string: \")\n",
        "string_length = len(user_input)\n",
        "print(f\"The length of the string is: {string_length}\")\n",
        "\n"
      ]
    },
    {
      "cell_type": "markdown",
      "metadata": {
        "id": "jJDe71iLB616"
      },
      "source": [
        "## Question 4\n",
        "Construct a Python program that counts and displays the occurrences of each character in a given string.\n",
        "\n",
        "Sample String: 'openai.ai',\n",
        "\n",
        "Expected Result: {'a': 2, 'i': 2, '.': 1, 'o': 1, 'p': 1, 'e': 1, 'n': 1}"
      ]
    },
    {
      "cell_type": "code",
      "execution_count": 2,
      "metadata": {
        "id": "MtKskTzbCLaU",
        "colab": {
          "base_uri": "https://localhost:8080/"
        },
        "outputId": "bbbe38c0-960f-4ebf-c14c-af08adafdbb6"
      },
      "outputs": [
        {
          "output_type": "stream",
          "name": "stdout",
          "text": [
            "Enter a string: hello,world\n",
            "Character occurrences:\n",
            "'h': 1\n",
            "'e': 1\n",
            "'l': 3\n",
            "'o': 2\n",
            "',': 1\n",
            "'w': 1\n",
            "'r': 1\n",
            "'d': 1\n"
          ]
        }
      ],
      "source": [
        "user_input = input(\"Enter a string: \")\n",
        "char_count = {}\n",
        "for char in user_input:\n",
        "    if char in char_count:\n",
        "        char_count[char] += 1\n",
        "    else:\n",
        "        char_count[char] = 1\n",
        "print(\"Character occurrences:\")\n",
        "for char, count in char_count.items():\n",
        "    print(f\"'{char}': {count}\")\n"
      ]
    },
    {
      "cell_type": "code",
      "source": [],
      "metadata": {
        "id": "rl8YgoDArNFw"
      },
      "execution_count": null,
      "outputs": []
    },
    {
      "cell_type": "markdown",
      "metadata": {
        "id": "55W9AMdXCSpV"
      },
      "source": [
        "## Question 5\n",
        "Design a Python code to calculate the sum of all elements in a user-provided list."
      ]
    },
    {
      "cell_type": "code",
      "execution_count": 93,
      "metadata": {
        "id": "I57NXsauCec2",
        "colab": {
          "base_uri": "https://localhost:8080/"
        },
        "outputId": "d3a44e7d-8ba4-4854-e7d9-8bad8e654653"
      },
      "outputs": [
        {
          "output_type": "stream",
          "name": "stdout",
          "text": [
            "Enter a list of numbers separated by commas (e.g., 1,2,3,4): 6,7,2,0,5\n",
            "Sum of the elements: 20\n"
          ]
        }
      ],
      "source": [
        "def sum_of_elements(numbers):\n",
        "    total_sum = 0\n",
        "    for num in numbers:\n",
        "        total_sum += num\n",
        "\n",
        "    return total_sum\n",
        "try:\n",
        "    input_string = input(\"Enter a list of numbers separated by commas (e.g., 1,2,3,4): \")\n",
        "    number_list = [int(x) for x in input_string.split(',')]\n",
        "    result = sum_of_elements(number_list)\n",
        "    print(\"Sum of the elements:\", result)\n",
        "except ValueError:\n",
        "    print(\"Invalid input. Please enter a list of integers separated by commas.\")\n"
      ]
    },
    {
      "cell_type": "markdown",
      "metadata": {
        "id": "4ulBZ6yhCi9F"
      },
      "source": [
        "## Question 6\n",
        "Write a Python program that modifies a given string by replacing all occurrences of its first character with '$', excluding the first character itself.\n",
        "\n",
        "\n",
        "Sample String : 'restart‘\n",
        "Expected Result : 'resta\\$t'"
      ]
    },
    {
      "cell_type": "code",
      "execution_count": 6,
      "metadata": {
        "id": "Fj0XhwbBCw2o",
        "colab": {
          "base_uri": "https://localhost:8080/"
        },
        "outputId": "ab8248f9-59ce-4960-8faa-64b508072191"
      },
      "outputs": [
        {
          "output_type": "stream",
          "name": "stdout",
          "text": [
            "Enter a string: character\n",
            "Modified string: chara$ter\n"
          ]
        }
      ],
      "source": [
        "user_input = input(\"Enter a string: \")\n",
        "if len(user_input) > 0:\n",
        "    # Get the first character of the string\n",
        "    first_char = user_input[0]\n",
        "    modified_string = first_char + user_input[1:].replace(first_char, '$')\n",
        "    print(\"Modified string:\", modified_string)\n",
        "else:\n",
        "    print(\"The input string is empty.\")\n"
      ]
    },
    {
      "cell_type": "markdown",
      "source": [
        "## Question 7\n",
        "Write a Python program using a while loop to compute the factorial of a user-supplied number."
      ],
      "metadata": {
        "id": "qVXA3q7ET5JI"
      }
    },
    {
      "cell_type": "code",
      "source": [
        "def compute_factorial(n):\n",
        "    factorial = 1\n",
        "    if n < 0:\n",
        "        return \"Factorial is not defined for negative numbers\"\n",
        "    while n > 0:\n",
        "        factorial *= n\n",
        "        n -= 1\n",
        "\n",
        "    return factorial\n",
        "try:\n",
        "    number = int(input(\"Enter a non-negative integer: \"))\n",
        "    if number < 0:\n",
        "        print(\"Factorial is not defined for negative numbers.\")\n",
        "    else:\n",
        "        result = compute_factorial(number)\n",
        "        print(f\"Factorial of {number} is {result}.\")\n",
        "except ValueError:\n",
        "    print(\"Invalid input. Please enter a valid integer.\")"
      ],
      "metadata": {
        "id": "Lbt7R6UkT7BA",
        "colab": {
          "base_uri": "https://localhost:8080/"
        },
        "outputId": "3fb2d2b5-7a18-405d-be1c-caa21de10adf"
      },
      "execution_count": 91,
      "outputs": [
        {
          "output_type": "stream",
          "name": "stdout",
          "text": [
            "Enter a non-negative integer: 8\n",
            "Factorial of 8 is 40320.\n"
          ]
        }
      ]
    },
    {
      "cell_type": "markdown",
      "source": [
        "## Question 8\n",
        "Create a program that accepts a list of numbers as input and outputs a new list containing only the even numbers."
      ],
      "metadata": {
        "id": "6YfbzXMNT--R"
      }
    },
    {
      "cell_type": "code",
      "source": [
        "def filter_even_numbers(numbers):\n",
        "    even_numbers = [num for num in numbers if num % 2 == 0]\n",
        "    return even_numbers\n",
        "input_list = [1, 8,4,9,3,1,2]\n",
        "output_list = filter_even_numbers(input_list)\n",
        "print(\"Even numbers:\", output_list)"
      ],
      "metadata": {
        "id": "54q7wMQPUAKu",
        "colab": {
          "base_uri": "https://localhost:8080/"
        },
        "outputId": "c08d9fcf-ef34-42d8-ed46-e560f947872e"
      },
      "execution_count": 90,
      "outputs": [
        {
          "output_type": "stream",
          "name": "stdout",
          "text": [
            "Even numbers: [8, 4, 2]\n"
          ]
        }
      ]
    },
    {
      "cell_type": "markdown",
      "metadata": {
        "id": "_bIP7s1MCzue"
      },
      "source": [
        "## Question 9\n",
        "Design a Python function to check if a number is prime.\n"
      ]
    },
    {
      "cell_type": "code",
      "execution_count": 88,
      "metadata": {
        "id": "w79QilHXD3Mg",
        "colab": {
          "base_uri": "https://localhost:8080/"
        },
        "outputId": "10bacb27-530a-45b8-de76-db14515f88dc"
      },
      "outputs": [
        {
          "output_type": "stream",
          "name": "stdout",
          "text": [
            "7 is a prime number.\n"
          ]
        }
      ],
      "source": [
        "def is_prime(n):\n",
        "    if n <= 1:\n",
        "        return False\n",
        "    if n <= 3:\n",
        "        return True\n",
        "    if n % 2 == 0 or n % 3 == 0:\n",
        "        return False\n",
        "    i = 5\n",
        "    while i * i <= n:\n",
        "        if n % i == 0 or n % (i + 2) == 0:\n",
        "            return False\n",
        "        i += 6\n",
        "\n",
        "    return True\n",
        "number = 7\n",
        "if is_prime(number):\n",
        "    print(f\"{number} is a prime number.\")\n",
        "else:\n",
        "    print(f\"{number} is not a prime number.\")\n"
      ]
    },
    {
      "cell_type": "markdown",
      "metadata": {
        "id": "xCa2bK9aD4Q3"
      },
      "source": [
        "## Question 10\n",
        "Write a Python program to concatenate following dictionaries to create a new one.\n",
        "\n",
        "Sample Dictionary : dic1={1:10, 2:20}, dic2={3:30, 4:40}, dic3={5:50,6:60},\n",
        "\n",
        "Expected Result : {1: 10, 2: 20, 3: 30, 4: 40, 5: 50, 6: 60}\n"
      ]
    },
    {
      "cell_type": "code",
      "execution_count": 17,
      "metadata": {
        "id": "_z4aLqAbEET1",
        "colab": {
          "base_uri": "https://localhost:8080/"
        },
        "outputId": "83c41502-a913-4bc1-f729-179f70937146"
      },
      "outputs": [
        {
          "output_type": "stream",
          "name": "stdout",
          "text": [
            "Merged dictionary: {1: 10, 2: 20, 3: 30, 4: 40, 5: 50, 6: 60}\n"
          ]
        }
      ],
      "source": [
        "dict1 = {1:10, 2:20}\n",
        "dict2 = {3:30, 4:40}\n",
        "dict3 = {5:50, 6:60}\n",
        "merged_dict = {**dict1, **dict2, **dict3}\n",
        "print(\"Merged dictionary:\", merged_dict)\n"
      ]
    },
    {
      "cell_type": "markdown",
      "source": [
        "## Question 11\n",
        "Design a Python function that takes a tuple of integers as input and returns the largest and smallest elements."
      ],
      "metadata": {
        "id": "bkyZ2xSZUOst"
      }
    },
    {
      "cell_type": "code",
      "source": [
        "def find_largest_and_smallest(numbers):\n",
        "    if not numbers:\n",
        "        return None, None\n",
        "    largest = max(numbers)\n",
        "    smallest = min(numbers)\n",
        "\n",
        "    return largest, smallest\n",
        "numbers = (5, 3, 9, 1, 7)\n",
        "largest, smallest = find_largest_and_smallest(numbers)\n",
        "print(\"Largest element:\", largest)\n",
        "print(\"Smallest element:\", smallest)"
      ],
      "metadata": {
        "id": "3FdLRBKOUQEd",
        "colab": {
          "base_uri": "https://localhost:8080/"
        },
        "outputId": "c371d94f-7ed9-4c46-8824-31a2301a5662"
      },
      "execution_count": 85,
      "outputs": [
        {
          "output_type": "stream",
          "name": "stdout",
          "text": [
            "Largest element: 9\n",
            "Smallest element: 1\n"
          ]
        }
      ]
    },
    {
      "cell_type": "markdown",
      "source": [
        "## Question 12\n",
        "Write a Python program that counts the frequency of each character in a given string and stores it in a dictionary."
      ],
      "metadata": {
        "id": "O0TVi3gKUTpp"
      }
    },
    {
      "cell_type": "code",
      "source": [
        "def count_character_frequency(s):\n",
        "    frequency_dict = {}\n",
        "    for char in s:\n",
        "        if char in frequency_dict:\n",
        "            frequency_dict[char] += 1\n",
        "        else:\n",
        "            frequency_dict[char] = 1\n",
        "\n",
        "    return frequency_dict\n",
        "input_string = \"shivani\"\n",
        "result = count_character_frequency(input_string)\n",
        "print(\"Character frequencies:\", result)"
      ],
      "metadata": {
        "id": "lAtfSfZXUU-h",
        "colab": {
          "base_uri": "https://localhost:8080/"
        },
        "outputId": "61f66924-4338-437d-9a71-c1c983c4012d"
      },
      "execution_count": 84,
      "outputs": [
        {
          "output_type": "stream",
          "name": "stdout",
          "text": [
            "Character frequencies: {'s': 1, 'h': 1, 'i': 2, 'v': 1, 'a': 1, 'n': 1}\n"
          ]
        }
      ]
    },
    {
      "cell_type": "markdown",
      "metadata": {
        "id": "0v48Vqa7FrQh"
      },
      "source": [
        "## Question 13\n",
        "Implement a Python script to identify duplicate elements in a provided array of integers. Return -1 if there are no duplicates."
      ]
    },
    {
      "cell_type": "code",
      "execution_count": 82,
      "metadata": {
        "id": "7WEmgq-DF2P1",
        "colab": {
          "base_uri": "https://localhost:8080/"
        },
        "outputId": "14537461-075a-4901-9bbe-920461e51257"
      },
      "outputs": [
        {
          "output_type": "stream",
          "name": "stdout",
          "text": [
            "Duplicates: [16, 23]\n"
          ]
        }
      ],
      "source": [
        "def find_duplicates(arr):\n",
        "    seen = set()\n",
        "    duplicates = set()\n",
        "    for num in arr:\n",
        "        if num in seen:\n",
        "            duplicates.add(num)\n",
        "        else:\n",
        "            seen.add(num)\n",
        "    if duplicates:\n",
        "        return list(duplicates)\n",
        "    else:\n",
        "        return -1\n",
        "arr = [23, 16, 42, 23, 7, 16]\n",
        "result = find_duplicates(arr)\n",
        "print(\"Duplicates:\", result)\n",
        "\n",
        "\n"
      ]
    },
    {
      "cell_type": "markdown",
      "metadata": {
        "id": "vD5PYLMuGga_"
      },
      "source": [
        "## Question 14\n",
        "Write a Python script to find the common elements between two lists."
      ]
    },
    {
      "cell_type": "code",
      "execution_count": 31,
      "metadata": {
        "id": "t0D5kdJUGjjw",
        "colab": {
          "base_uri": "https://localhost:8080/"
        },
        "outputId": "dd2a8181-4412-44d6-f9db-c758db4080ee"
      },
      "outputs": [
        {
          "output_type": "stream",
          "name": "stdout",
          "text": [
            "Enter elements of the first list separated by spaces: 1 5 8 0\n",
            "Enter elements of the second list separated by spaces: 8 3 4 5\n",
            "Common elements: [8, 5]\n"
          ]
        }
      ],
      "source": [
        "  list1 = list(map(int, input(\"Enter elements of the first list separated by spaces: \").split()))\n",
        "  list2 = list(map(int, input(\"Enter elements of the second list separated by spaces: \").split()))\n",
        "\n",
        "  common = find_common_elements(list1, list2)\n",
        "\n",
        "  if common:\n",
        "    print(\"Common elements:\", common)\n",
        "  else:\n",
        "    print(\"No common elements found.\")\n"
      ]
    },
    {
      "cell_type": "markdown",
      "metadata": {
        "id": "uHkd-y5VhVWC"
      },
      "source": [
        "## Question 15\n",
        "Write a Python program to randomly divide the students in this class into maximum of eight groups for term projects, each group should have at least 4 students but no more than 6 students (including 6).\n",
        "\n",
        "Here is the students list:\n",
        "\n",
        "student_list_spring_2024=[rb0846,\n",
        "ac1964,\n",
        "hc0612,\n",
        "md0912,\n",
        "ad1198,\n",
        "md0894,\n",
        "md0825,\n",
        "vg0598,\n",
        "vg0433,\n",
        "mh1068,\n",
        "yj0173,\n",
        "pk0553,\n",
        "tk0411,\n",
        "srk0204,\n",
        "sk2922,\n",
        "sk2936,\n",
        "mk1302,\n",
        "mk1317,\n",
        "tk0412,\n",
        "vk0656,\n",
        "sm2985,\n",
        "mm2372,\n",
        "un0045,\n",
        "an0892,\n",
        "sn0913,\n",
        "gp0252,\n",
        "ap1484,\n",
        "mr1765,\n",
        "sr1385,\n",
        "sr1335,\n",
        "hs0665,\n",
        "ms2060,\n",
        "gt0217,\n",
        "nt0385,\n",
        "tv0186,\n",
        "sv1394,\n",
        "sv1752,\n",
        "sv1555,\n",
        "sy0594\n",
        "]\n"
      ]
    },
    {
      "cell_type": "code",
      "execution_count": 50,
      "metadata": {
        "id": "3iGbmcOBhTwy",
        "colab": {
          "base_uri": "https://localhost:8080/"
        },
        "outputId": "109dfacf-03cb-465c-8c17-dd536b16873f"
      },
      "outputs": [
        {
          "output_type": "stream",
          "name": "stdout",
          "text": [
            "Number of groups created: 8\n",
            "Group 1: ['srk0204', 'ap1484', 'md0825', 'sk2922', 'sm2985', 'vg0598']\n",
            "Group 2: ['tk0411', 'sr1385', 'gt0217', 'mh1068', 'mm2372', 'vk0656']\n",
            "Group 3: ['sn0913', 'ms2060', 'tk0412', 'rb0846', 'sv1394']\n",
            "Group 4: ['md0912', 'tv0186', 'md0894', 'sv1555']\n",
            "Group 5: ['sy0594', 'hc0612', 'pk0553', 'yj0173', 'vg0433']\n",
            "Group 6: ['ad1198', 'un0045', 'gp0252', 'sv1752']\n",
            "Group 7: ['mk1302', 'an0892', 'mk1317', 'sk2936', 'hs0665']\n",
            "Group 8: ['nt0385', 'sr1335', 'mr1765', 'ac1964']\n"
          ]
        }
      ],
      "source": [
        "import random\n",
        "\n",
        "def divide_students_into_groups(students, max_groups=8, min_group_size=4, max_group_size=6):\n",
        "  random.shuffle(students)\n",
        "  groups = []\n",
        "  while len(students) > 0 and len(groups) < max_groups:\n",
        "      group_size = random.randint(min_group_size, max_group_size)\n",
        "      if len(students) < min_group_size:\n",
        "          group_size = len(students)\n",
        "      group = students[:group_size]\n",
        "      students = students[group_size:]\n",
        "      groups.append(group)\n",
        "\n",
        "  return groups\n",
        "\n",
        "student_list_spring_2024 = [\n",
        "    'rb0846', 'ac1964', 'hc0612', 'md0912', 'ad1198', 'md0894', 'md0825', 'vg0598', 'vg0433',\n",
        "    'mh1068', 'yj0173', 'pk0553', 'tk0411', 'srk0204', 'sk2922', 'sk2936', 'mk1302', 'mk1317',\n",
        "    'tk0412', 'vk0656', 'sm2985', 'mm2372', 'un0045', 'an0892', 'sn0913', 'gp0252', 'ap1484',\n",
        "    'mr1765', 'sr1385', 'sr1335', 'hs0665', 'ms2060', 'gt0217', 'nt0385', 'tv0186', 'sv1394',\n",
        "    'sv1752', 'sv1555', 'sy0594'\n",
        "]\n",
        "groups = divide_students_into_groups(student_list_spring_2024)\n",
        "print(\"Number of groups created:\", len(groups))\n",
        "for i, group in enumerate(groups, start=1):\n",
        "    print(f\"Group {i}: {group}\")\n",
        "\n"
      ]
    },
    {
      "cell_type": "markdown",
      "metadata": {
        "id": "fmZ9vX20Qs3d"
      },
      "source": [
        "## Question 16\n",
        "Create a program that takes a positive integer 'n' as input and prints the count of even numbers from 1 to 'n'. Optimize the loop using the continue statement."
      ]
    },
    {
      "cell_type": "code",
      "execution_count": 80,
      "metadata": {
        "id": "W8Jw6sWMQs3d",
        "colab": {
          "base_uri": "https://localhost:8080/"
        },
        "outputId": "66d0b471-48c2-4a4b-ebf3-730a5db17a73"
      },
      "outputs": [
        {
          "output_type": "stream",
          "name": "stdout",
          "text": [
            "Enter a positive integer: 8\n",
            "Count of even numbers from 1 to 8 is: 4\n"
          ]
        }
      ],
      "source": [
        "def count_even_numbers(n):\n",
        "    count = 0\n",
        "    for i in range(1, n + 1):\n",
        "        if i % 2 != 0:\n",
        "            continue\n",
        "        count += 1\n",
        "    return count\n",
        "try:\n",
        "    n = int(input(\"Enter a positive integer: \"))\n",
        "    if n <= 0:\n",
        "        print(\"Please enter a positive integer.\")\n",
        "    else:\n",
        "        print(\"Count of even numbers from 1 to\", n, \"is:\", count_even_numbers(n))\n",
        "except ValueError:\n",
        "    print(\"Invalid input. Please enter a valid integer.\")\n",
        "\n",
        ""
      ]
    },
    {
      "cell_type": "markdown",
      "metadata": {
        "id": "hvq4APMhQs3d"
      },
      "source": [
        "## Question 17\n",
        "Develop a Python function called 'count_vowels' that takes a string as input and returns the count of vowels (both lowercase and uppercase) present in the string, ignoring spaces and non-alphabetic characters."
      ]
    },
    {
      "cell_type": "code",
      "execution_count": 70,
      "metadata": {
        "id": "ZnoxhSglQs3d",
        "colab": {
          "base_uri": "https://localhost:8080/"
        },
        "outputId": "a9741d72-bcb6-42a6-c0a3-94baa8af75ff"
      },
      "outputs": [
        {
          "output_type": "stream",
          "name": "stdout",
          "text": [
            "Enter a string: shivani,katakam\n",
            "The count of vowels in the string is: 6\n"
          ]
        }
      ],
      "source": [
        "def count_vowels(s):\n",
        "    vowels = 'aeiouAEIOU'\n",
        "    vowel_count = 0\n",
        "    for char in s:\n",
        "        if char in vowels:\n",
        "            vowel_count += 1\n",
        "    return vowel_count\n",
        "input_string = input(\"Enter a string: \")\n",
        "result = count_vowels(input_string)\n",
        "print(f\"The count of vowels in the string is: {result}\")\n",
        "\n"
      ]
    },
    {
      "cell_type": "markdown",
      "source": [
        "## Question 18\n",
        "Create a custom exception named ValueTooSmallError in Python. Write a program that takes user input for an age, and if the entered age is less than 18, raise the ValueTooSmallError with an appropriate error message."
      ],
      "metadata": {
        "id": "55FWoSJPVVM6"
      }
    },
    {
      "cell_type": "code",
      "source": [
        "\n",
        "class ValueTooSmallError(Exception):\n",
        "    def __init__(self, message):\n",
        "        self.message = message\n",
        "        super().__init__(self.message)\n",
        "\n",
        "def check_age(age):\n",
        "    if age < 18:\n",
        "        raise ValueTooSmallError(\"Age must be 18 or older.\")\n",
        "    else:\n",
        "        print(\"Age is acceptable.\")\n",
        "\n",
        "try:\n",
        "    age = int(input(\"Enter your age: \"))\n",
        "    check_age(age)\n",
        "except ValueTooSmallError as e:\n",
        "    print(e)\n",
        "except ValueError:\n",
        "    print(\"Invalid input. Please enter a valid integer.\")\n"
      ],
      "metadata": {
        "id": "hwtr1wZmVX5A",
        "colab": {
          "base_uri": "https://localhost:8080/"
        },
        "outputId": "81cd6906-0d07-47b8-ac77-753d5ebfbe12"
      },
      "execution_count": 71,
      "outputs": [
        {
          "output_type": "stream",
          "name": "stdout",
          "text": [
            "Enter your age: 24\n",
            "Age is acceptable.\n"
          ]
        }
      ]
    },
    {
      "cell_type": "markdown",
      "source": [],
      "metadata": {
        "id": "E_INOzEw6bhF"
      }
    },
    {
      "cell_type": "markdown",
      "source": [
        "## Question 19\n",
        "Develop a script that reverses a given string without using built-in reverse functions."
      ],
      "metadata": {
        "id": "Q9ecagcaVazW"
      }
    },
    {
      "cell_type": "code",
      "source": [
        "def reverse_string(s):\n",
        "    reversed_str = ''\n",
        "    for char in s:\n",
        "        reversed_str = char + reversed_str  # Prepend the current character\n",
        "    return reversed_str\n",
        "input_string = input(\"Enter a string to reverse: \")\n",
        "reversed_string = reverse_string(input_string)\n",
        "print(f\"The reversed string is: {reversed_string}\")\n"
      ],
      "metadata": {
        "id": "gycgckoAVZjR",
        "colab": {
          "base_uri": "https://localhost:8080/"
        },
        "outputId": "dc580e63-8457-4f8f-aa87-29703c0671fb"
      },
      "execution_count": 72,
      "outputs": [
        {
          "output_type": "stream",
          "name": "stdout",
          "text": [
            "Enter a string to reverse: shivani\n",
            "The reversed string is: inavihs\n"
          ]
        }
      ]
    },
    {
      "cell_type": "markdown",
      "source": [
        "## Question 20\n",
        "Implement a Python script to generate a random password of a specified length."
      ],
      "metadata": {
        "id": "ZFG6RibifMLu"
      }
    },
    {
      "cell_type": "code",
      "source": [
        "import random\n",
        "import string\n",
        "\n",
        "def generate_random_password(length):\n",
        "    if length < 1:\n",
        "        raise ValueError(\"Password length must be at least 1.\")\n",
        "    characters = string.ascii_letters + string.digits + string.punctuation\n",
        "    password = ''.join(random.choice(characters) for _ in range(length))\n",
        "    return password\n",
        "try:\n",
        "    length = int(input(\"Enter the length of the password: \"))\n",
        "    if length < 1:\n",
        "        raise ValueError(\"Password length must be at least 1.\")\n",
        "\n",
        "    password = generate_random_password(length)\n",
        "    print(f\"Generated password: {password}\")\n",
        "\n",
        "except ValueError as e:\n",
        "    print(e)"
      ],
      "metadata": {
        "id": "BFVrkEi9fNiD",
        "colab": {
          "base_uri": "https://localhost:8080/"
        },
        "outputId": "2b3647b7-6746-4f05-ad29-984ad4847c07"
      },
      "execution_count": 76,
      "outputs": [
        {
          "output_type": "stream",
          "name": "stdout",
          "text": [
            "Enter the length of the password: 6\n",
            "Generated password: SYJXO4\n"
          ]
        }
      ]
    },
    {
      "cell_type": "markdown",
      "source": [
        "# Try these questions"
      ],
      "metadata": {
        "id": "6SmvS7nSfbj8"
      }
    },
    {
      "cell_type": "markdown",
      "source": [
        "(21) Define a base class called 'Vehicle' with attributes make and model. Create a derived class Car that inherits from Vehicle and has an additional attribute 'num_doors'. Demonstrate an example of creating an instance of the 'Car' class and accessing its attributes."
      ],
      "metadata": {
        "id": "cboAr5pEWUf5"
      }
    },
    {
      "cell_type": "code",
      "source": [
        "class Vehicle:\n",
        "    def __init__(self, make, model):\n",
        "        self.make = make\n",
        "        self.model = model\n",
        "\n",
        "    def display_info(self):\n",
        "        return f\"Make: {self.make}, Model: {self.model}\"\n",
        "class Car(Vehicle):\n",
        "    def __init__(self, make, model, num_doors):\n",
        "        super().__init__(make, model)  # Initialize attributes from the base class\n",
        "        self.num_doors = num_doors\n",
        "\n",
        "    def display_info(self):\n",
        "        # Override the display_info method to include num_doors\n",
        "        base_info = super().display_info()\n",
        "        return f\"{base_info}, Number of Doors: {self.num_doors}\"\n",
        "my_car = Car(make=\"Toyota\", model=\"Camry\", num_doors=4)\n",
        "print(\"Car Details:\")\n",
        "print(my_car.display_info())\n"
      ],
      "metadata": {
        "id": "phs9gciMWWAW",
        "colab": {
          "base_uri": "https://localhost:8080/"
        },
        "outputId": "cedf2440-2dda-40c9-e3d6-21d5728f00e9"
      },
      "execution_count": 94,
      "outputs": [
        {
          "output_type": "stream",
          "name": "stdout",
          "text": [
            "Car Details:\n",
            "Make: Toyota, Model: Camry, Number of Doors: 4\n"
          ]
        }
      ]
    },
    {
      "cell_type": "markdown",
      "source": [
        "(22) Create a class called 'Shape' with a method calculate_area(). Implement two derived classes 'Circle' and 'Rectangle' that inherit from Shape and override the calculate_area() method. Demonstrate polymorphism by creating instances of both derived classes and calling the calculate_area() method."
      ],
      "metadata": {
        "id": "J8HHefNtePwd"
      }
    },
    {
      "cell_type": "code",
      "source": [
        "# write your answer here"
      ],
      "metadata": {
        "id": "btnMmUZDeRhS"
      },
      "execution_count": null,
      "outputs": []
    },
    {
      "cell_type": "markdown",
      "source": [
        "(23) Write a Python program that prompts the user to enter two numbers and perform a division operation. Handle exceptions for both zero division and invalid input (non-numeric input). Display appropriate error messages for each type of exception and ensure the program does not crash due to these errors."
      ],
      "metadata": {
        "id": "z0oqEAlTeMUS"
      }
    },
    {
      "cell_type": "code",
      "source": [
        "# write your answer here"
      ],
      "metadata": {
        "id": "yjdc1zM1eMAs"
      },
      "execution_count": null,
      "outputs": []
    },
    {
      "cell_type": "markdown",
      "source": [
        "# Mandatory Question"
      ],
      "metadata": {
        "id": "sZOhks1dXWEe"
      }
    },
    {
      "cell_type": "markdown",
      "source": [
        "**Important:**\n",
        "Reflecting on the first three lectures and the exercises you've completed, please provide feedback on your learning experience. Share your thoughts on whether the material covered was clear, the exercises were helpful, and if you feel more confident in applying Python programming concepts. Additionally, mention any specific areas where you would like more clarification or topics you would like to explore further in future lectures. Your feedback is valuable in shaping the course for an effective learning journey."
      ],
      "metadata": {
        "id": "eqmHVEwaWhbV"
      }
    },
    {
      "cell_type": "code",
      "source": [
        "'''\n",
        "It's great to have a such a good professor and TA, who helps a lot in understanding concepts. I am glad that this class enables me to learn python from scratch.\n",
        "From the first three classes i have learned a lot in python including basic concepts like lists,tuple,sets,dictionay etc.\n",
        "TA also teaches some programs in python which helps me to complete my in class excercises.\n",
        "'''"
      ],
      "metadata": {
        "id": "akAVJn9YBTQT"
      },
      "execution_count": null,
      "outputs": []
    }
  ],
  "metadata": {
    "colab": {
      "provenance": [],
      "collapsed_sections": [
        "FBKvD6O_TY6e",
        "E9RqrlwdTfvl",
        "03jb4GZsBkBS",
        "jJDe71iLB616",
        "55W9AMdXCSpV",
        "4ulBZ6yhCi9F",
        "6SmvS7nSfbj8",
        "sZOhks1dXWEe"
      ],
      "include_colab_link": true
    },
    "kernelspec": {
      "display_name": "Python 3 (ipykernel)",
      "language": "python",
      "name": "python3"
    },
    "language_info": {
      "codemirror_mode": {
        "name": "ipython",
        "version": 3
      },
      "file_extension": ".py",
      "mimetype": "text/x-python",
      "name": "python",
      "nbconvert_exporter": "python",
      "pygments_lexer": "ipython3",
      "version": "3.9.12"
    }
  },
  "nbformat": 4,
  "nbformat_minor": 0
}